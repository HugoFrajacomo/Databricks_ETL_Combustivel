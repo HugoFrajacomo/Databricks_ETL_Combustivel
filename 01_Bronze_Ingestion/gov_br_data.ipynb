{
 "cells": [
  {
   "cell_type": "markdown",
   "metadata": {
    "application/vnd.databricks.v1+cell": {
     "cellMetadata": {
      "byteLimit": 2048000,
      "rowLimit": 10000
     },
     "inputWidgets": {},
     "nuid": "ba85f12c-106e-4977-9cda-5fa6fa7d0e35",
     "showTitle": false,
     "tableResultSettingsMap": {},
     "title": ""
    }
   },
   "source": [
    "## Imports"
   ]
  },
  {
   "cell_type": "code",
   "execution_count": 0,
   "metadata": {
    "application/vnd.databricks.v1+cell": {
     "cellMetadata": {
      "byteLimit": 2048000,
      "rowLimit": 10000
     },
     "inputWidgets": {},
     "nuid": "cc7ac8eb-7551-4111-81f6-a4fc384fdf47",
     "showTitle": false,
     "tableResultSettingsMap": {},
     "title": ""
    }
   },
   "outputs": [],
   "source": [
    "import requests\n",
    "import pandas as pd\n",
    "from zipfile import ZipFile\n",
    "from concurrent.futures import ThreadPoolExecutor\n",
    "from datetime import datetime\n",
    "import os\n",
    "from io import StringIO, BytesIO\n",
    "import re"
   ]
  },
  {
   "cell_type": "markdown",
   "metadata": {
    "application/vnd.databricks.v1+cell": {
     "cellMetadata": {
      "byteLimit": 2048000,
      "rowLimit": 10000
     },
     "inputWidgets": {},
     "nuid": "1bb81df4-f8f2-4053-abcd-026c4c235b8f",
     "showTitle": false,
     "tableResultSettingsMap": {},
     "title": ""
    }
   },
   "source": [
    "## Get data"
   ]
  },
  {
   "cell_type": "markdown",
   "metadata": {
    "application/vnd.databricks.v1+cell": {
     "cellMetadata": {
      "byteLimit": 2048000,
      "rowLimit": 10000
     },
     "inputWidgets": {},
     "nuid": "22641cd9-cf0c-4c02-8ddf-0aa9b9347372",
     "showTitle": false,
     "tableResultSettingsMap": {},
     "title": ""
    }
   },
   "source": [
    "### Path and Year range"
   ]
  },
  {
   "cell_type": "code",
   "execution_count": 0,
   "metadata": {
    "application/vnd.databricks.v1+cell": {
     "cellMetadata": {
      "byteLimit": 2048000,
      "rowLimit": 10000
     },
     "inputWidgets": {},
     "nuid": "aed32044-b677-4d50-bc91-2bc8941b432f",
     "showTitle": false,
     "tableResultSettingsMap": {},
     "title": ""
    }
   },
   "outputs": [],
   "source": [
    "anos_zip = range(2022, (datetime.now().year + 1))\n",
    "anos_csv = range(2020, 2022)\n",
    "semestres = [1, 2]\n",
    "\n",
    "base_url_zip = \"https://www.gov.br/anp/pt-br/centrais-de-conteudo/dados-abertos/arquivos/shpc/dsas/ca/ca-{year}-{sem:02d}.zip\"\n",
    "base_url_csv = \"https://www.gov.br/anp/pt-br/centrais-de-conteudo/dados-abertos/arquivos/shpc/dsas/ca/ca-{year}-{sem:02d}.csv\"\n",
    "\n",
    "urls_zip = [base_url_zip.format(year=year, sem=sem) for year in anos_zip for sem in semestres]\n",
    "urls_csv = [base_url_csv.format(year=year, sem=sem) for year in anos_csv for sem in semestres]\n",
    "\n",
    "all_urls = urls_zip + urls_csv"
   ]
  },
  {
   "cell_type": "markdown",
   "metadata": {
    "application/vnd.databricks.v1+cell": {
     "cellMetadata": {
      "byteLimit": 2048000,
      "rowLimit": 10000
     },
     "inputWidgets": {},
     "nuid": "32cb75aa-e648-4f64-92f3-558404e5c6df",
     "showTitle": false,
     "tableResultSettingsMap": {},
     "title": ""
    }
   },
   "source": [
    "### Download and process files in-memory"
   ]
  },
  {
   "cell_type": "code",
   "execution_count": 0,
   "metadata": {
    "application/vnd.databricks.v1+cell": {
     "cellMetadata": {
      "byteLimit": 2048000,
      "rowLimit": 10000
     },
     "inputWidgets": {},
     "nuid": "a3d7d991-4d2a-4e14-bebf-a4f7d6267613",
     "showTitle": false,
     "tableResultSettingsMap": {},
     "title": ""
    }
   },
   "outputs": [],
   "source": [
    "def rename_cols(df_spark):\n",
    "    return (\n",
    "        df_spark\n",
    "        .withColumnRenamed(\"ï»¿Regiao - Sigla\", \"RegiaoSigla\")\n",
    "        .withColumnRenamed(\"Regiao - Sigla\", \"RegiaoSigla\")\n",
    "        .withColumnRenamed(\"Estado - Sigla\", \"EstadoSigla\")\n",
    "        .withColumnRenamed(\"Municipio\", \"Municipio\")\n",
    "        .withColumnRenamed(\"Revenda\", \"Revenda\")\n",
    "        .withColumnRenamed(\"CNPJ da Revenda\", \"CNPJRevenda\")\n",
    "        .withColumnRenamed(\"Nome da Rua\", \"NomeRua\")\n",
    "        .withColumnRenamed(\"Numero Rua\", \"NumeroRua\")\n",
    "        .withColumnRenamed(\"Complemento\", \"Complemento\")\n",
    "        .withColumnRenamed(\"Bairro\", \"Bairro\")\n",
    "        .withColumnRenamed(\"Cep\", \"Cep\")\n",
    "        .withColumnRenamed(\"Produto\", \"Produto\")\n",
    "        .withColumnRenamed(\"Data da Coleta\", \"DataColeta\")\n",
    "        .withColumnRenamed(\"Valor de Venda\", \"ValorVenda\")\n",
    "        .withColumnRenamed(\"Valor de Compra\", \"ValorCompra\")\n",
    "        .withColumnRenamed(\"Unidade de Medida\", \"UnidadeMedida\")\n",
    "        .withColumnRenamed(\"Bandeira\", \"Bandeira\")\n",
    "    )"
   ]
  },
  {
   "cell_type": "code",
   "execution_count": 0,
   "metadata": {
    "application/vnd.databricks.v1+cell": {
     "cellMetadata": {
      "byteLimit": 2048000,
      "rowLimit": 10000
     },
     "inputWidgets": {},
     "nuid": "b8620459-0114-4a41-b104-47cb259642cc",
     "showTitle": false,
     "tableResultSettingsMap": {},
     "title": ""
    }
   },
   "outputs": [],
   "source": [
    "def process_and_save_url(url):\n",
    "    match = re.search(r\"ca-(\\d{4})-(\\d{2})\", url)\n",
    "    if not match:\n",
    "        print(f\"Could not extract year/semester from {url}\")\n",
    "        return\n",
    "\n",
    "    year, sem = match.groups()\n",
    "    table_name = f\"gov_br_combustivel.bronze_layer.delta_{year}_{sem}\"\n",
    "\n",
    "    if spark.catalog.tableExists(table_name):\n",
    "        print(f\"Table {table_name} already exists. Skipping.\")\n",
    "        return\n",
    "\n",
    "    df_pandas = None\n",
    "    try:\n",
    "        r = requests.get(url)\n",
    "        if r.status_code == 200:\n",
    "            if url.endswith('.zip'):\n",
    "                with ZipFile(BytesIO(r.content)) as z:\n",
    "                    for fname in z.namelist():\n",
    "                        if fname.lower().endswith('.csv'):\n",
    "                            with z.open(fname) as f:\n",
    "                                df_pandas = pd.read_csv(f, sep=\";\", encoding=\"UTF-8\")\n",
    "            elif url.endswith('.csv'):\n",
    "                df_pandas = pd.read_csv(StringIO(r.text), sep=\";\", encoding=\"UTF-8\")\n",
    "    except Exception as e:\n",
    "        print(f\"Error processing {url}: {e}\")\n",
    "        return\n",
    "\n",
    "    if df_pandas is None or df_pandas.empty:\n",
    "        print(f\"No data in {url}\")\n",
    "        return\n",
    "\n",
    "    spark_df = spark.createDataFrame(df_pandas)\n",
    "    renamed_df = rename_cols(spark_df)\n",
    "\n",
    "    renamed_df.write.format(\"delta\").mode(\"overwrite\").saveAsTable(table_name)\n",
    "    print(f\"Successfully saved {table_name}\")\n",
    "\n",
    "with ThreadPoolExecutor(max_workers=4) as ex:\n",
    "    ex.map(process_and_save_url, all_urls)"
   ]
  },
  {
   "cell_type": "code",
   "execution_count": 0,
   "metadata": {
    "application/vnd.databricks.v1+cell": {
     "cellMetadata": {
      "byteLimit": 2048000,
      "rowLimit": 10000
     },
     "inputWidgets": {},
     "nuid": "b8959af8-73c5-4279-8506-6379e62152f5",
     "showTitle": false,
     "tableResultSettingsMap": {},
     "title": ""
    }
   },
   "outputs": [],
   "source": [
    "def process_and_save_precos_zip(url):\n",
    "    table_name = \"gov_br_combustivel.bronze_layer.delta_2022_01\"\n",
    "    if spark.catalog.tableExists(table_name):\n",
    "        print(f\"Table {table_name} already exists. Skipping.\")\n",
    "        return\n",
    "\n",
    "    df_pandas = None\n",
    "    try:\n",
    "        r = requests.get(url)\n",
    "        if r.status_code == 200 and url.endswith('.zip'):\n",
    "            with ZipFile(BytesIO(r.content)) as z:\n",
    "                for fname in z.namelist():\n",
    "                    if fname.lower().endswith('.csv'):\n",
    "                        with z.open(fname) as f:\n",
    "                            df_pandas = pd.read_csv(f, sep=\";\", encoding=\"UTF-8\")\n",
    "    except Exception as e:\n",
    "        print(f\"Error processing {url}: {e}\")\n",
    "        return\n",
    "\n",
    "    if df_pandas is None or df_pandas.empty:\n",
    "        print(f\"No data in {url}\")\n",
    "        return\n",
    "\n",
    "    spark_df = spark.createDataFrame(df_pandas)\n",
    "    renamed_df = rename_cols(spark_df)\n",
    "    renamed_df.write.format(\"delta\").mode(\"overwrite\").saveAsTable(table_name)\n",
    "    print(f\"Successfully saved {table_name}\")\n",
    "\n",
    "precos_zip_url = \"https://www.gov.br/anp/pt-br/centrais-de-conteudo/dados-abertos/arquivos/shpc/dsas/ca/precos-semestrais-ca.zip\"\n",
    "process_and_save_precos_zip(precos_zip_url)"
   ]
  }
 ],
 "metadata": {
  "application/vnd.databricks.v1+notebook": {
   "computePreferences": {
    "hardware": {
     "accelerator": null,
     "gpuPoolId": null,
     "memory": null
    }
   },
   "dashboards": [],
   "environmentMetadata": {
    "base_environment": "",
    "environment_version": "2"
   },
   "inputWidgetPreferences": null,
   "language": "python",
   "notebookMetadata": {
    "pythonIndentUnit": 4
   },
   "notebookName": "gov_br_data",
   "widgets": {}
  },
  "language_info": {
   "name": "python"
  }
 },
 "nbformat": 4,
 "nbformat_minor": 0
}
