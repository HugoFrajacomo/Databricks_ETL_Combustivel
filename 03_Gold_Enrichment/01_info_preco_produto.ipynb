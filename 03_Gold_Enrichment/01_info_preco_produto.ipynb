{
 "cells": [
  {
   "cell_type": "code",
   "execution_count": 0,
   "metadata": {
    "application/vnd.databricks.v1+cell": {
     "cellMetadata": {
      "byteLimit": 2048000,
      "rowLimit": 10000
     },
     "inputWidgets": {},
     "nuid": "b8d7027f-c17e-4223-9808-a88b64c7c932",
     "showTitle": false,
     "tableResultSettingsMap": {},
     "title": ""
    }
   },
   "outputs": [],
   "source": [
    "from functools import reduce\n",
    "from pyspark.sql import functions as F\n",
    "from pyspark.sql.functions import *"
   ]
  },
  {
   "cell_type": "code",
   "execution_count": 0,
   "metadata": {
    "application/vnd.databricks.v1+cell": {
     "cellMetadata": {
      "byteLimit": 2048000,
      "rowLimit": 10000
     },
     "inputWidgets": {},
     "nuid": "e59709d5-252d-4e20-b997-d85e453633ea",
     "showTitle": false,
     "tableResultSettingsMap": {},
     "title": ""
    }
   },
   "outputs": [],
   "source": [
    "dim_localidade = spark.table(\"gov_br_combustivel.silver_layer.dim_localidade\")\n",
    "dim_produto = spark.table(\"gov_br_combustivel.silver_layer.dim_produto\")\n",
    "dim_revenda = spark.table(\"gov_br_combustivel.silver_layer.dim_revenda\")\n",
    "dim_tempo = spark.table(\"gov_br_combustivel.silver_layer.dim_tempo\")\n",
    "fact_fuel = spark.table(\"gov_br_combustivel.silver_layer.fact_fuel\")"
   ]
  },
  {
   "cell_type": "code",
   "execution_count": 0,
   "metadata": {
    "application/vnd.databricks.v1+cell": {
     "cellMetadata": {
      "byteLimit": 2048000,
      "rowLimit": 10000
     },
     "inputWidgets": {},
     "nuid": "a1861d85-f315-43c8-9a84-ffc3407a4d18",
     "showTitle": false,
     "tableResultSettingsMap": {},
     "title": ""
    }
   },
   "outputs": [],
   "source": [
    "view_preco_produto = (\n",
    "    fact_fuel.groupBy(\"Produto\")\n",
    "    .agg(\n",
    "        F.avg(\"ValorVenda\").alias(\"media_valor_venda\"),\n",
    "        F.avg(\"ValorCompra\").alias(\"media_valor_compra\"),\n",
    "        F.min(\"ValorVenda\").alias(\"min_valor_venda\"),\n",
    "        F.max(\"ValorVenda\").alias(\"max_valor_venda\"),\n",
    "        F.min(\"ValorCompra\").alias(\"min_valor_compra\"),\n",
    "        F.max(\"ValorCompra\").alias(\"max_valor_compra\"),\n",
    "    )\n",
    "    .withColumn(\"media_valor_venda\", F.round(F.col(\"media_valor_venda\"), 2))\n",
    "    .withColumn(\"media_valor_compra\", F.round(F.col(\"media_valor_compra\"), 2))\n",
    "    .withColumn(\"diferenca_venda_compra\", F.round(F.col(\"media_valor_venda\") - F.col(\"media_valor_compra\"), 2))\n",
    "    .withColumn(\n",
    "        \"margem_lucro_percentual\",\n",
    "        F.round(\n",
    "            (F.col(\"media_valor_venda\") - F.col(\"media_valor_compra\")) / F.col(\"media_valor_compra\") * 100, 2\n",
    "        )\n",
    "    )\n",
    "    .select(\n",
    "        \"Produto\",\n",
    "        \"min_valor_venda\",\n",
    "        \"max_valor_venda\",\n",
    "        \"min_valor_compra\",\n",
    "        \"max_valor_compra\",\n",
    "        \"media_valor_venda\",\n",
    "        \"media_valor_compra\",\n",
    "        \"diferenca_venda_compra\",\n",
    "        \"margem_lucro_percentual\"\n",
    "    )\n",
    ")"
   ]
  },
  {
   "cell_type": "code",
   "execution_count": 0,
   "metadata": {
    "application/vnd.databricks.v1+cell": {
     "cellMetadata": {
      "byteLimit": 2048000,
      "rowLimit": 10000
     },
     "inputWidgets": {},
     "nuid": "de31bfe1-eea0-4edf-8916-d49700dad64e",
     "showTitle": false,
     "tableResultSettingsMap": {},
     "title": ""
    }
   },
   "outputs": [],
   "source": [
    "display(view_preco_produto)"
   ]
  },
  {
   "cell_type": "code",
   "execution_count": 0,
   "metadata": {
    "application/vnd.databricks.v1+cell": {
     "cellMetadata": {
      "byteLimit": 2048000,
      "rowLimit": 10000
     },
     "inputWidgets": {},
     "nuid": "1ff48e3c-827f-4c1c-a309-7b508b4052f5",
     "showTitle": false,
     "tableResultSettingsMap": {},
     "title": ""
    }
   },
   "outputs": [],
   "source": [
    "view_preco_produto.write.format(\"delta\") \\\n",
    "    .mode(\"overwrite\") \\\n",
    "    .option(\"zorderBy\", \"Produto\") \\\n",
    "    .saveAsTable(\"gov_br_combustivel.gold_layer.view_preco_produto\")"
   ]
  }
 ],
 "metadata": {
  "application/vnd.databricks.v1+notebook": {
   "computePreferences": {
    "hardware": {
     "accelerator": null,
     "gpuPoolId": null,
     "memory": null
    }
   },
   "dashboards": [],
   "environmentMetadata": {
    "base_environment": "",
    "environment_version": "2"
   },
   "inputWidgetPreferences": null,
   "language": "python",
   "notebookMetadata": {
    "mostRecentlyExecutedCommandWithImplicitDF": {
     "commandId": 6816060453501320,
     "dataframes": [
      "_sqldf"
     ]
    },
    "pythonIndentUnit": 4
   },
   "notebookName": "01_info_preco_produto",
   "widgets": {}
  },
  "language_info": {
   "name": "python"
  }
 },
 "nbformat": 4,
 "nbformat_minor": 0
}
