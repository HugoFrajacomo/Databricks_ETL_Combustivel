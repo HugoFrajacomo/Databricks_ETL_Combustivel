{
 "cells": [
  {
   "cell_type": "code",
   "execution_count": 0,
   "metadata": {
    "application/vnd.databricks.v1+cell": {
     "cellMetadata": {
      "byteLimit": 2048000,
      "rowLimit": 10000
     },
     "inputWidgets": {},
     "nuid": "8bf0a412-c024-462a-9f4e-07fc99c3c43b",
     "showTitle": false,
     "tableResultSettingsMap": {},
     "title": ""
    }
   },
   "outputs": [],
   "source": [
    "from functools import reduce\n",
    "from pyspark.sql import functions as F\n",
    "from pyspark.sql.functions import *\n",
    "from pyspark.sql.window import Window"
   ]
  },
  {
   "cell_type": "code",
   "execution_count": 0,
   "metadata": {
    "application/vnd.databricks.v1+cell": {
     "cellMetadata": {
      "byteLimit": 2048000,
      "rowLimit": 10000
     },
     "inputWidgets": {},
     "nuid": "edb0c26e-8e32-4475-b88f-7d3f3b49b835",
     "showTitle": false,
     "tableResultSettingsMap": {},
     "title": ""
    }
   },
   "outputs": [],
   "source": [
    "fact_fuel = spark.table(\"gov_br_combustivel.silver_layer.fact_fuel\")"
   ]
  },
  {
   "cell_type": "code",
   "execution_count": 0,
   "metadata": {
    "application/vnd.databricks.v1+cell": {
     "cellMetadata": {
      "byteLimit": 2048000,
      "rowLimit": 10000
     },
     "inputWidgets": {},
     "nuid": "cd33a16d-901f-471d-b520-a7bd543cf027",
     "showTitle": false,
     "tableResultSettingsMap": {},
     "title": ""
    }
   },
   "outputs": [],
   "source": [
    "display(fact_fuel.schema)"
   ]
  },
  {
   "cell_type": "markdown",
   "metadata": {
    "application/vnd.databricks.v1+cell": {
     "cellMetadata": {
      "byteLimit": 2048000,
      "rowLimit": 10000
     },
     "inputWidgets": {},
     "nuid": "a64df062-4bcb-4b1b-bfba-7e4f4a7bac86",
     "showTitle": false,
     "tableResultSettingsMap": {},
     "title": ""
    }
   },
   "source": [
    "## Variação mensal do ultimo ano"
   ]
  },
  {
   "cell_type": "code",
   "execution_count": 0,
   "metadata": {
    "application/vnd.databricks.v1+cell": {
     "cellMetadata": {
      "byteLimit": 2048000,
      "rowLimit": 10000
     },
     "inputWidgets": {},
     "nuid": "7097e283-6d81-4fc1-9083-aebb7bf3db20",
     "showTitle": false,
     "tableResultSettingsMap": {},
     "title": ""
    }
   },
   "outputs": [],
   "source": [
    "\n",
    "ultimo_ano = fact_fuel.agg(F.max(\"DataColeta\")).collect()[0][0]\n",
    "\n",
    "df_ultimo_ano = fact_fuel.filter(F.col(\"DataColeta\") >= F.add_months(F.lit(ultimo_ano), -12))\n",
    "\n",
    "df_mes = df_ultimo_ano.withColumn(\"year\", F.year(\"DataColeta\")) \\\n",
    "    .withColumn(\"month\", F.month(\"DataColeta\"))\n",
    "\n",
    "media_mensal = df_mes.groupBy(\"Produto\", \"year\", \"month\") \\\n",
    "    .agg(F.round(F.avg(\"ValorVenda\"), 2).alias(\"avg_price\")) \\\n",
    "    .orderBy(\"Produto\", \"year\", \"month\")\n",
    "\n",
    "windowSpec = Window.partitionBy(\"Produto\").orderBy(\"year\", \"month\")\n",
    "\n",
    "view_variacao_mensal_produto = media_mensal.withColumn(\n",
    "    \"prev_price\", F.lag(\"avg_price\").over(windowSpec)\n",
    ").withColumn(\n",
    "    \"variation_pct\",\n",
    "    F.round(((F.col(\"avg_price\") - F.col(\"prev_price\")) / F.col(\"prev_price\")) * 100, 2)\n",
    ")"
   ]
  },
  {
   "cell_type": "code",
   "execution_count": 0,
   "metadata": {
    "application/vnd.databricks.v1+cell": {
     "cellMetadata": {
      "byteLimit": 2048000,
      "rowLimit": 10000
     },
     "inputWidgets": {},
     "nuid": "0e15eb69-22dd-4ac6-a3c8-e2c9dc8d19fe",
     "showTitle": false,
     "tableResultSettingsMap": {},
     "title": ""
    }
   },
   "outputs": [],
   "source": [
    "view_variacao_mensal_produto.write.format(\"delta\") \\\n",
    "    .mode(\"overwrite\") \\\n",
    "    .option(\"zorderBy\", \"Produto\") \\\n",
    "    .saveAsTable(\"gov_br_combustivel.gold_layer.view_variacao_mensal_produto\")"
   ]
  },
  {
   "cell_type": "markdown",
   "metadata": {
    "application/vnd.databricks.v1+cell": {
     "cellMetadata": {
      "byteLimit": 2048000,
      "rowLimit": 10000
     },
     "inputWidgets": {},
     "nuid": "94ef921b-9cfa-49bd-af80-5fe752333a58",
     "showTitle": false,
     "tableResultSettingsMap": {},
     "title": ""
    }
   },
   "source": [
    "### Preço médio por ano"
   ]
  },
  {
   "cell_type": "code",
   "execution_count": 0,
   "metadata": {
    "application/vnd.databricks.v1+cell": {
     "cellMetadata": {
      "byteLimit": 2048000,
      "rowLimit": 10000
     },
     "inputWidgets": {},
     "nuid": "a10c3867-8ad3-4ea1-956d-fbed468d690e",
     "showTitle": false,
     "tableResultSettingsMap": {},
     "title": ""
    }
   },
   "outputs": [],
   "source": [
    "df_com_ano = fact_fuel.withColumn(\"ano\", F.year(\"DataColeta\"))\n",
    "\n",
    "media_anual = df_com_ano.groupBy(\"Produto\", \"ano\") \\\n",
    "    .agg(F.round(F.avg(\"ValorVenda\"), 2).alias(\"media_anual\")) \\\n",
    "    .orderBy(\"Produto\", \"ano\")\n",
    "\n",
    "windowSpec = Window.partitionBy(\"Produto\").orderBy(\"ano\")\n",
    "\n",
    "view_variacao_anual = media_anual.withColumn(\n",
    "    \"media_ano_anterior\", F.lag(\"media_anual\").over(windowSpec)\n",
    ").withColumn(\n",
    "    \"yearly_variation_pct\",\n",
    "    F.round(((F.col(\"media_anual\") - F.col(\"media_ano_anterior\")) / F.col(\"media_ano_anterior\")) * 100, 2)\n",
    ")"
   ]
  },
  {
   "cell_type": "code",
   "execution_count": 0,
   "metadata": {
    "application/vnd.databricks.v1+cell": {
     "cellMetadata": {
      "byteLimit": 2048000,
      "rowLimit": 10000
     },
     "inputWidgets": {},
     "nuid": "e15984b4-9c12-4150-9255-b09174410337",
     "showTitle": false,
     "tableResultSettingsMap": {},
     "title": ""
    }
   },
   "outputs": [],
   "source": [
    "primeiro_ano = fact_fuel.agg(F.min(\"DataColeta\")).collect()[0][0].year\n",
    "\n",
    "view_variacao_anual_sem_primeiro_ano = view_variacao_anual.filter(F.col(\"ano\") > primeiro_ano)"
   ]
  },
  {
   "cell_type": "code",
   "execution_count": 0,
   "metadata": {
    "application/vnd.databricks.v1+cell": {
     "cellMetadata": {
      "byteLimit": 2048000,
      "rowLimit": 10000
     },
     "inputWidgets": {},
     "nuid": "87cba25d-7c7a-4087-a4e2-7d41f518d886",
     "showTitle": false,
     "tableResultSettingsMap": {},
     "title": ""
    }
   },
   "outputs": [],
   "source": [
    "view_variacao_anual_sem_primeiro_ano.write.format(\"delta\") \\\n",
    "    .mode(\"overwrite\") \\\n",
    "    .option(\"zorderBy\", \"Produto\") \\\n",
    "    .saveAsTable(\"gov_br_combustivel.gold_layer.view_variacao_anual\")"
   ]
  },
  {
   "cell_type": "markdown",
   "metadata": {
    "application/vnd.databricks.v1+cell": {
     "cellMetadata": {
      "byteLimit": 2048000,
      "rowLimit": 10000
     },
     "inputWidgets": {},
     "nuid": "8508b61d-339f-46c5-890b-c413e7c2d147",
     "showTitle": false,
     "tableResultSettingsMap": {},
     "title": ""
    }
   },
   "source": []
  }
 ],
 "metadata": {
  "application/vnd.databricks.v1+notebook": {
   "computePreferences": null,
   "dashboards": [],
   "environmentMetadata": {
    "base_environment": "",
    "environment_version": "2"
   },
   "inputWidgetPreferences": null,
   "language": "python",
   "notebookMetadata": {
    "pythonIndentUnit": 4
   },
   "notebookName": "02_indicadores_temporais",
   "widgets": {}
  },
  "language_info": {
   "name": "python"
  }
 },
 "nbformat": 4,
 "nbformat_minor": 0
}
