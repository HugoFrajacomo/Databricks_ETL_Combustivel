{
 "cells": [
  {
   "cell_type": "code",
   "execution_count": 0,
   "metadata": {
    "application/vnd.databricks.v1+cell": {
     "cellMetadata": {
      "byteLimit": 2048000,
      "implicitDf": true,
      "rowLimit": 10000
     },
     "inputWidgets": {},
     "nuid": "01725718-40c4-4bd4-878d-974890bb268e",
     "showTitle": false,
     "tableResultSettingsMap": {},
     "title": ""
    }
   },
   "outputs": [],
   "source": [
    "%sql\n",
    "USE gov_br_combustivel.silver_layer;"
   ]
  },
  {
   "cell_type": "markdown",
   "metadata": {
    "application/vnd.databricks.v1+cell": {
     "cellMetadata": {},
     "inputWidgets": {},
     "nuid": "926398e1-29e1-43b7-a081-17edf71a2ffb",
     "showTitle": false,
     "tableResultSettingsMap": {},
     "title": ""
    }
   },
   "source": [
    "## Ranking média de preço Acendente / Cidade\n"
   ]
  },
  {
   "cell_type": "markdown",
   "metadata": {
    "application/vnd.databricks.v1+cell": {
     "cellMetadata": {},
     "inputWidgets": {},
     "nuid": "e6e5549c-19dc-4009-ad13-7aef7ae49f4e",
     "showTitle": false,
     "tableResultSettingsMap": {},
     "title": ""
    }
   },
   "source": [
    "### GNV"
   ]
  },
  {
   "cell_type": "code",
   "execution_count": 0,
   "metadata": {
    "application/vnd.databricks.v1+cell": {
     "cellMetadata": {
      "byteLimit": 2048000,
      "implicitDf": true,
      "rowLimit": 10000
     },
     "inputWidgets": {},
     "nuid": "fce74062-e7ff-4d86-a437-20ff3215dc4e",
     "showTitle": false,
     "tableResultSettingsMap": {
      "0": {
       "dataGridStateBlob": "{\"version\":1,\"tableState\":{\"columnPinning\":{\"left\":[\"#row_number#\"],\"right\":[]},\"columnSizing\":{},\"columnVisibility\":{}},\"settings\":{\"columns\":{}},\"syncTimestamp\":1756144539163}",
       "filterBlob": null,
       "queryPlanFiltersBlob": null,
       "tableResultIndex": 0
      }
     },
     "title": ""
    }
   },
   "outputs": [],
   "source": [
    "%sql\n",
    "CREATE OR REPLACE TABLE gov_br_combustivel.gold_layer.view_gnv_cidade_rank AS\n",
    "SELECT \n",
    "  DL.Municipio,\n",
    "  ROUND(AVG(FF.ValorVenda), 2) AS PrecoMedio\n",
    "FROM fact_fuel AS FF\n",
    "INNER JOIN dim_localidade AS DL ON FF.Cep = DL.Cep\n",
    "WHERE FF.Produto = 'GNV'\n",
    "GROUP BY DL.Municipio\n",
    "ORDER BY PrecoMedio ASC"
   ]
  },
  {
   "cell_type": "markdown",
   "metadata": {
    "application/vnd.databricks.v1+cell": {
     "cellMetadata": {},
     "inputWidgets": {},
     "nuid": "920c134b-2f02-4d94-8a39-495eabaaf1b4",
     "showTitle": false,
     "tableResultSettingsMap": {},
     "title": ""
    }
   },
   "source": [
    "### Etanol"
   ]
  },
  {
   "cell_type": "code",
   "execution_count": 0,
   "metadata": {
    "application/vnd.databricks.v1+cell": {
     "cellMetadata": {
      "byteLimit": 2048000,
      "implicitDf": true,
      "rowLimit": 10000
     },
     "inputWidgets": {},
     "nuid": "b1f411e8-3f62-4e66-b8a6-d4a311ed212f",
     "showTitle": false,
     "tableResultSettingsMap": {},
     "title": ""
    }
   },
   "outputs": [],
   "source": [
    "%sql\n",
    "CREATE OR REPLACE TABLE gov_br_combustivel.gold_layer.view_etanol_cidade_rank AS\n",
    "SELECT \n",
    "  DL.Municipio,\n",
    "  ROUND(AVG(FF.ValorVenda), 2) AS PrecoMedio\n",
    "FROM fact_fuel AS FF\n",
    "INNER JOIN dim_localidade AS DL ON FF.Cep = DL.Cep\n",
    "WHERE FF.Produto = 'ETANOL'\n",
    "GROUP BY DL.Municipio\n",
    "ORDER BY PrecoMedio ASC"
   ]
  },
  {
   "cell_type": "markdown",
   "metadata": {
    "application/vnd.databricks.v1+cell": {
     "cellMetadata": {},
     "inputWidgets": {},
     "nuid": "f236a2d2-ba18-454b-8f44-2311c78fd53b",
     "showTitle": false,
     "tableResultSettingsMap": {},
     "title": ""
    }
   },
   "source": [
    "### Gasolina aditivada"
   ]
  },
  {
   "cell_type": "code",
   "execution_count": 0,
   "metadata": {
    "application/vnd.databricks.v1+cell": {
     "cellMetadata": {
      "byteLimit": 2048000,
      "implicitDf": true,
      "rowLimit": 10000
     },
     "inputWidgets": {},
     "nuid": "1ce73a5b-3ed2-4992-97c7-8f830d826482",
     "showTitle": false,
     "tableResultSettingsMap": {},
     "title": ""
    }
   },
   "outputs": [],
   "source": [
    "%sql\n",
    "CREATE OR REPLACE TABLE gov_br_combustivel.gold_layer.view_gasolina_aditivada_cidade_rank AS\n",
    "SELECT \n",
    "  DL.Municipio,\n",
    "  ROUND(AVG(FF.ValorVenda), 2) AS PrecoMedio\n",
    "FROM fact_fuel AS FF\n",
    "INNER JOIN dim_localidade AS DL ON FF.Cep = DL.Cep\n",
    "WHERE FF.Produto = 'GASOLINA ADITIVADA'\n",
    "GROUP BY DL.Municipio\n",
    "ORDER BY PrecoMedio ASC"
   ]
  },
  {
   "cell_type": "markdown",
   "metadata": {
    "application/vnd.databricks.v1+cell": {
     "cellMetadata": {},
     "inputWidgets": {},
     "nuid": "5e9f6cfd-1fc7-45c1-93e2-cf26493397bb",
     "showTitle": false,
     "tableResultSettingsMap": {},
     "title": ""
    }
   },
   "source": [
    "### GASOLINA"
   ]
  },
  {
   "cell_type": "code",
   "execution_count": 0,
   "metadata": {
    "application/vnd.databricks.v1+cell": {
     "cellMetadata": {
      "byteLimit": 2048000,
      "implicitDf": true,
      "rowLimit": 10000
     },
     "inputWidgets": {},
     "nuid": "fadb014c-7dad-4410-96a0-3b440cd4c247",
     "showTitle": false,
     "tableResultSettingsMap": {
      "0": {
       "dataGridStateBlob": "{\"version\":1,\"tableState\":{\"columnPinning\":{\"left\":[\"#row_number#\"],\"right\":[]},\"columnSizing\":{},\"columnVisibility\":{}},\"settings\":{\"columns\":{}},\"syncTimestamp\":1756146643510}",
       "filterBlob": null,
       "queryPlanFiltersBlob": null,
       "tableResultIndex": 0
      }
     },
     "title": ""
    }
   },
   "outputs": [],
   "source": [
    "%sql\n",
    "CREATE OR REPLACE TABLE gov_br_combustivel.gold_layer.view_gasolina_cidade_rank AS\n",
    "SELECT \n",
    "  DL.Municipio,\n",
    "  ROUND(AVG(FF.ValorVenda), 2) AS PrecoMedio\n",
    "FROM fact_fuel AS FF\n",
    "INNER JOIN dim_localidade AS DL ON FF.Cep = DL.Cep\n",
    "WHERE FF.Produto = 'GASOLINA'\n",
    "GROUP BY DL.Municipio\n",
    "ORDER BY PrecoMedio ASC"
   ]
  },
  {
   "cell_type": "markdown",
   "metadata": {
    "application/vnd.databricks.v1+cell": {
     "cellMetadata": {},
     "inputWidgets": {},
     "nuid": "c16622ba-68a4-4a93-8749-112be60f5de6",
     "showTitle": false,
     "tableResultSettingsMap": {},
     "title": ""
    }
   },
   "source": [
    "### DIESEL S10"
   ]
  },
  {
   "cell_type": "code",
   "execution_count": 0,
   "metadata": {
    "application/vnd.databricks.v1+cell": {
     "cellMetadata": {
      "byteLimit": 2048000,
      "implicitDf": true,
      "rowLimit": 10000
     },
     "inputWidgets": {},
     "nuid": "035f1b03-f14c-4429-a8b7-66ce108266f8",
     "showTitle": false,
     "tableResultSettingsMap": {},
     "title": ""
    }
   },
   "outputs": [],
   "source": [
    "%sql\n",
    "CREATE OR REPLACE TABLE gov_br_combustivel.gold_layer.view_diesel_s10_cidade_rank AS\n",
    "SELECT \n",
    "  DL.Municipio,\n",
    "  ROUND(AVG(FF.ValorVenda), 2) AS PrecoMedio\n",
    "FROM fact_fuel AS FF\n",
    "INNER JOIN dim_localidade AS DL ON FF.Cep = DL.Cep\n",
    "WHERE FF.Produto = 'DIESEL S10'\n",
    "GROUP BY DL.Municipio\n",
    "ORDER BY PrecoMedio ASC"
   ]
  },
  {
   "cell_type": "markdown",
   "metadata": {
    "application/vnd.databricks.v1+cell": {
     "cellMetadata": {},
     "inputWidgets": {},
     "nuid": "6df4a0fc-680b-4a60-be71-97e3eca83696",
     "showTitle": false,
     "tableResultSettingsMap": {},
     "title": ""
    }
   },
   "source": [
    "### DIESEL"
   ]
  },
  {
   "cell_type": "code",
   "execution_count": 0,
   "metadata": {
    "application/vnd.databricks.v1+cell": {
     "cellMetadata": {
      "byteLimit": 2048000,
      "implicitDf": true,
      "rowLimit": 10000
     },
     "inputWidgets": {},
     "nuid": "21da08db-1851-4be8-b9f2-53d0fab3f401",
     "showTitle": false,
     "tableResultSettingsMap": {},
     "title": ""
    }
   },
   "outputs": [],
   "source": [
    "%sql\n",
    "CREATE OR REPLACE TABLE gov_br_combustivel.gold_layer.view_diesel_cidade_rank AS\n",
    "SELECT \n",
    "  DL.Municipio,\n",
    "  ROUND(AVG(FF.ValorVenda), 2) AS PrecoMedio\n",
    "FROM fact_fuel AS FF\n",
    "INNER JOIN dim_localidade AS DL ON FF.Cep = DL.Cep\n",
    "WHERE FF.Produto = 'DIESEL'\n",
    "GROUP BY DL.Municipio\n",
    "ORDER BY PrecoMedio ASC"
   ]
  },
  {
   "cell_type": "markdown",
   "metadata": {
    "application/vnd.databricks.v1+cell": {
     "cellMetadata": {},
     "inputWidgets": {},
     "nuid": "0314727e-5150-4c37-93d6-f8a02c23266e",
     "showTitle": false,
     "tableResultSettingsMap": {},
     "title": ""
    }
   },
   "source": [
    "## Ranking média de preço Acendente / Estado"
   ]
  },
  {
   "cell_type": "markdown",
   "metadata": {
    "application/vnd.databricks.v1+cell": {
     "cellMetadata": {},
     "inputWidgets": {},
     "nuid": "b7d39428-6f3d-4583-b718-c60ab4c27085",
     "showTitle": false,
     "tableResultSettingsMap": {},
     "title": ""
    }
   },
   "source": [
    "### GNV"
   ]
  },
  {
   "cell_type": "code",
   "execution_count": 0,
   "metadata": {
    "application/vnd.databricks.v1+cell": {
     "cellMetadata": {
      "byteLimit": 2048000,
      "implicitDf": true,
      "rowLimit": 10000
     },
     "inputWidgets": {},
     "nuid": "db399883-cffc-48fa-9e10-9d7511f3fd93",
     "showTitle": false,
     "tableResultSettingsMap": {},
     "title": ""
    }
   },
   "outputs": [],
   "source": [
    "%sql\n",
    "CREATE OR REPLACE TABLE gov_br_combustivel.gold_layer.view_gnv_estado_rank AS\n",
    "SELECT \n",
    "  DL.EstadoSigla,\n",
    "  ROUND(AVG(FF.ValorVenda), 2) AS PrecoMedio\n",
    "FROM fact_fuel AS FF\n",
    "INNER JOIN dim_localidade AS DL ON FF.Cep = DL.Cep\n",
    "WHERE FF.Produto = 'GNV'\n",
    "GROUP BY DL.EstadoSigla\n",
    "ORDER BY PrecoMedio ASC"
   ]
  },
  {
   "cell_type": "markdown",
   "metadata": {
    "application/vnd.databricks.v1+cell": {
     "cellMetadata": {},
     "inputWidgets": {},
     "nuid": "87bd51fe-2059-4c8a-97d3-37fa8463c3e6",
     "showTitle": false,
     "tableResultSettingsMap": {},
     "title": ""
    }
   },
   "source": [
    "### ETANOL"
   ]
  },
  {
   "cell_type": "code",
   "execution_count": 0,
   "metadata": {
    "application/vnd.databricks.v1+cell": {
     "cellMetadata": {
      "byteLimit": 2048000,
      "implicitDf": true,
      "rowLimit": 10000
     },
     "inputWidgets": {},
     "nuid": "5bb1cc5a-6960-4c2a-8333-aa6d31fd8f21",
     "showTitle": false,
     "tableResultSettingsMap": {},
     "title": ""
    }
   },
   "outputs": [],
   "source": [
    "%sql\n",
    "CREATE OR REPLACE TABLE gov_br_combustivel.gold_layer.view_etanol_estado_rank AS\n",
    "SELECT \n",
    "  DL.EstadoSigla,\n",
    "  ROUND(AVG(FF.ValorVenda), 2) AS PrecoMedio\n",
    "FROM fact_fuel AS FF\n",
    "INNER JOIN dim_localidade AS DL ON FF.Cep = DL.Cep\n",
    "WHERE FF.Produto = 'ETANOL'\n",
    "GROUP BY DL.EstadoSigla\n",
    "ORDER BY PrecoMedio ASC"
   ]
  },
  {
   "cell_type": "markdown",
   "metadata": {
    "application/vnd.databricks.v1+cell": {
     "cellMetadata": {},
     "inputWidgets": {},
     "nuid": "19a9da4d-8a49-44ff-9470-3a4659cb0729",
     "showTitle": false,
     "tableResultSettingsMap": {},
     "title": ""
    }
   },
   "source": [
    "### GASOLINA ADITIVADA"
   ]
  },
  {
   "cell_type": "code",
   "execution_count": 0,
   "metadata": {
    "application/vnd.databricks.v1+cell": {
     "cellMetadata": {
      "byteLimit": 2048000,
      "implicitDf": true,
      "rowLimit": 10000
     },
     "inputWidgets": {},
     "nuid": "f0107a67-665f-42a7-81c6-9461f60c2dde",
     "showTitle": false,
     "tableResultSettingsMap": {},
     "title": ""
    }
   },
   "outputs": [],
   "source": [
    "%sql\n",
    "CREATE OR REPLACE TABLE gov_br_combustivel.gold_layer.view_gasolina_aditivada_estado_rank AS\n",
    "SELECT \n",
    "  DL.EstadoSigla,\n",
    "  ROUND(AVG(FF.ValorVenda), 2) AS PrecoMedio\n",
    "FROM fact_fuel AS FF\n",
    "INNER JOIN dim_localidade AS DL ON FF.Cep = DL.Cep\n",
    "WHERE FF.Produto = 'GASOLINA ADITIVADA'\n",
    "GROUP BY DL.EstadoSigla\n",
    "ORDER BY PrecoMedio ASC"
   ]
  },
  {
   "cell_type": "markdown",
   "metadata": {
    "application/vnd.databricks.v1+cell": {
     "cellMetadata": {},
     "inputWidgets": {},
     "nuid": "564dd39e-56ec-453e-83ec-2a9980e09e97",
     "showTitle": false,
     "tableResultSettingsMap": {},
     "title": ""
    }
   },
   "source": [
    "### GASOLINA"
   ]
  },
  {
   "cell_type": "code",
   "execution_count": 0,
   "metadata": {
    "application/vnd.databricks.v1+cell": {
     "cellMetadata": {
      "byteLimit": 2048000,
      "implicitDf": true,
      "rowLimit": 10000
     },
     "inputWidgets": {},
     "nuid": "b8dd1341-53bd-4c00-b7d9-8dfa2ae9748a",
     "showTitle": false,
     "tableResultSettingsMap": {},
     "title": ""
    }
   },
   "outputs": [],
   "source": [
    "%sql\n",
    "CREATE OR REPLACE TABLE gov_br_combustivel.gold_layer.view_gasolina_estado_rank AS\n",
    "SELECT \n",
    "  DL.EstadoSigla,\n",
    "  ROUND(AVG(FF.ValorVenda), 2) AS PrecoMedio\n",
    "FROM fact_fuel AS FF\n",
    "INNER JOIN dim_localidade AS DL ON FF.Cep = DL.Cep\n",
    "WHERE FF.Produto = 'GASOLINA'\n",
    "GROUP BY DL.EstadoSigla\n",
    "ORDER BY PrecoMedio ASC"
   ]
  },
  {
   "cell_type": "markdown",
   "metadata": {
    "application/vnd.databricks.v1+cell": {
     "cellMetadata": {},
     "inputWidgets": {},
     "nuid": "de0720a1-1b76-491a-8121-8db777aacb69",
     "showTitle": false,
     "tableResultSettingsMap": {},
     "title": ""
    }
   },
   "source": [
    "### DIESEL S10"
   ]
  },
  {
   "cell_type": "code",
   "execution_count": 0,
   "metadata": {
    "application/vnd.databricks.v1+cell": {
     "cellMetadata": {
      "byteLimit": 2048000,
      "implicitDf": true,
      "rowLimit": 10000
     },
     "inputWidgets": {},
     "nuid": "71560739-7ffe-40d4-851f-865968372894",
     "showTitle": false,
     "tableResultSettingsMap": {},
     "title": ""
    }
   },
   "outputs": [],
   "source": [
    "%sql\n",
    "CREATE OR REPLACE TABLE gov_br_combustivel.gold_layer.view_diesel_s10_estado_rank AS\n",
    "SELECT \n",
    "  DL.EstadoSigla,\n",
    "  ROUND(AVG(FF.ValorVenda), 2) AS PrecoMedio\n",
    "FROM fact_fuel AS FF\n",
    "INNER JOIN dim_localidade AS DL ON FF.Cep = DL.Cep\n",
    "WHERE FF.Produto = 'DIESEL S10'\n",
    "GROUP BY DL.EstadoSigla\n",
    "ORDER BY PrecoMedio ASC"
   ]
  },
  {
   "cell_type": "markdown",
   "metadata": {
    "application/vnd.databricks.v1+cell": {
     "cellMetadata": {},
     "inputWidgets": {},
     "nuid": "8bd4ddf7-98d5-4bff-8d9c-679898a0b9d8",
     "showTitle": false,
     "tableResultSettingsMap": {},
     "title": ""
    }
   },
   "source": [
    "### DIESEL"
   ]
  },
  {
   "cell_type": "code",
   "execution_count": 0,
   "metadata": {
    "application/vnd.databricks.v1+cell": {
     "cellMetadata": {
      "byteLimit": 2048000,
      "implicitDf": true,
      "rowLimit": 10000
     },
     "inputWidgets": {},
     "nuid": "1cb014e6-af1d-45b4-a1f6-1d972888d816",
     "showTitle": false,
     "tableResultSettingsMap": {},
     "title": ""
    }
   },
   "outputs": [],
   "source": [
    "%sql\n",
    "CREATE OR REPLACE TABLE gov_br_combustivel.gold_layer.view_diesel_estado_rank AS\n",
    "SELECT \n",
    "  DL.EstadoSigla,\n",
    "  ROUND(AVG(FF.ValorVenda), 2) AS PrecoMedio\n",
    "FROM fact_fuel AS FF\n",
    "INNER JOIN dim_localidade AS DL ON FF.Cep = DL.Cep\n",
    "WHERE FF.Produto = 'DIESEL'\n",
    "GROUP BY DL.EstadoSigla\n",
    "ORDER BY PrecoMedio ASC"
   ]
  }
 ],
 "metadata": {
  "application/vnd.databricks.v1+notebook": {
   "computePreferences": null,
   "dashboards": [],
   "environmentMetadata": {
    "base_environment": "",
    "environment_version": "3"
   },
   "inputWidgetPreferences": null,
   "language": "python",
   "notebookMetadata": {
    "mostRecentlyExecutedCommandWithImplicitDF": {
     "commandId": 6060039544565190,
     "dataframes": [
      "_sqldf"
     ]
    },
    "pythonIndentUnit": 4
   },
   "notebookName": "03_comparacoes_geograficas",
   "widgets": {}
  },
  "language_info": {
   "name": "python"
  }
 },
 "nbformat": 4,
 "nbformat_minor": 0
}
