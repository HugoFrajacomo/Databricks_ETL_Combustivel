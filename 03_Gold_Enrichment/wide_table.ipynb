{
 "cells": [
  {
   "cell_type": "code",
   "execution_count": 0,
   "metadata": {
    "application/vnd.databricks.v1+cell": {
     "cellMetadata": {
      "byteLimit": 2048000,
      "implicitDf": true,
      "rowLimit": 10000
     },
     "inputWidgets": {},
     "nuid": "06fa484d-e8d1-4c4b-92c0-2e61fa0fc95a",
     "showTitle": false,
     "tableResultSettingsMap": {},
     "title": ""
    }
   },
   "outputs": [],
   "source": [
    "%sql\n",
    "USE gov_br_combustivel.silver_layer"
   ]
  },
  {
   "cell_type": "code",
   "execution_count": 0,
   "metadata": {
    "application/vnd.databricks.v1+cell": {
     "cellMetadata": {
      "byteLimit": 2048000,
      "implicitDf": true,
      "rowLimit": 10000
     },
     "inputWidgets": {},
     "nuid": "c3570125-9b91-461f-b4c0-0fc771ade9af",
     "showTitle": false,
     "tableResultSettingsMap": {
      "0": {
       "dataGridStateBlob": "{\"version\":1,\"tableState\":{\"columnPinning\":{\"left\":[\"#row_number#\"],\"right\":[]},\"columnSizing\":{},\"columnVisibility\":{}},\"settings\":{\"columns\":{}},\"syncTimestamp\":1757030912638}",
       "filterBlob": null,
       "queryPlanFiltersBlob": null,
       "tableResultIndex": 0
      }
     },
     "title": ""
    }
   },
   "outputs": [],
   "source": [
    "%sql\n",
    "CREATE TABLE IF NOT EXISTS gov_br_combustivel.gold_layer.wide_table as\n",
    "\n",
    "SELECT\n",
    "  -- fact_fuel\n",
    "  FF.CNPJRevenda,\n",
    "  FF.Cep,\n",
    "  FF.Produto,\n",
    "  FF.DataColeta,\n",
    "  FF.ValorVenda,\n",
    "  FF.ValorCompra,\n",
    "  -- dim_localidade\n",
    "  -- DL.Cep,\n",
    "  DL.RegiaoSigla,\n",
    "  DL.EstadoSigla,\n",
    "  DL.Municipio,\n",
    "  -- dim_produto\n",
    "  -- DP.Produto\n",
    "  DP.UnidadeMedida,\n",
    "  -- dim_revenda\n",
    "  --DR.CNPJRevenda,\n",
    "  DR.Revenda,\n",
    "  DR.NomeRua,\n",
    "  DR.NumeroRua,\n",
    "  DR.Complemento,\n",
    "  DR.Bandeira,\n",
    "  --DR.Cep,\n",
    "  -- dim_tempo\n",
    "  --DT.DataColeta,\n",
    "  DT.dia,\n",
    "  DT.mes,\n",
    "  DT.ano,\n",
    "  DT.semana,\n",
    "  DT.trimestre\n",
    "FROM fact_fuel AS FF\n",
    "INNER JOIN dim_localidade AS DL ON FF.Cep = DL.Cep\n",
    "INNER JOIN dim_produto AS DP ON FF.Produto = DP.Produto\n",
    "INNER JOIN dim_revenda AS DR ON FF.CNPJRevenda = DR.CNPJRevenda\n",
    "INNER JOIN dim_tempo AS DT ON FF.DataColeta = DT.DataColeta"
   ]
  },
  {
   "cell_type": "code",
   "execution_count": 0,
   "metadata": {
    "application/vnd.databricks.v1+cell": {
     "cellMetadata": {
      "byteLimit": 2048000,
      "implicitDf": true,
      "rowLimit": 10000
     },
     "inputWidgets": {},
     "nuid": "c7a57dd9-8414-4e7b-95e0-bcb81fecc973",
     "showTitle": false,
     "tableResultSettingsMap": {},
     "title": ""
    }
   },
   "outputs": [],
   "source": [
    "%sql\n",
    "OPTIMIZE gov_br_combustivel.gold_layer.wide_table"
   ]
  }
 ],
 "metadata": {
  "application/vnd.databricks.v1+notebook": {
   "computePreferences": null,
   "dashboards": [],
   "environmentMetadata": {
    "base_environment": "",
    "environment_version": "3"
   },
   "inputWidgetPreferences": null,
   "language": "python",
   "notebookMetadata": {
    "mostRecentlyExecutedCommandWithImplicitDF": {
     "commandId": 8436912886421740,
     "dataframes": [
      "_sqldf"
     ]
    },
    "pythonIndentUnit": 4
   },
   "notebookName": "wide_table",
   "widgets": {}
  },
  "language_info": {
   "name": "python"
  }
 },
 "nbformat": 4,
 "nbformat_minor": 0
}
