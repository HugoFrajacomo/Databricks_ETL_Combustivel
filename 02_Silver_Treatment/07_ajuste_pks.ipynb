{
 "cells": [
  {
   "cell_type": "code",
   "execution_count": 0,
   "metadata": {
    "application/vnd.databricks.v1+cell": {
     "cellMetadata": {
      "byteLimit": 2048000,
      "rowLimit": 10000
     },
     "inputWidgets": {},
     "nuid": "d4fe75be-02db-436f-bc39-63400e3072de",
     "showTitle": false,
     "tableResultSettingsMap": {},
     "title": ""
    }
   },
   "outputs": [],
   "source": [
    "dim_revenda = spark.table(\"gov_br_combustivel.silver_layer.dim_revenda\")\n",
    "dim_localidade = spark.table(\"gov_br_combustivel.silver_layer.dim_localidade\")\n",
    "dim_produto = spark.table(\"gov_br_combustivel.silver_layer.dim_produto\")\n",
    "dim_tempo = spark.table(\"gov_br_combustivel.silver_layer.dim_tempo\")\n",
    "full_table = spark.table(\"gov_br_combustivel.silver_layer.unified_fuel_data\")"
   ]
  },
  {
   "cell_type": "code",
   "execution_count": 0,
   "metadata": {
    "application/vnd.databricks.v1+cell": {
     "cellMetadata": {
      "byteLimit": 2048000,
      "rowLimit": 10000
     },
     "inputWidgets": {},
     "nuid": "154435d9-758f-4ad0-83dc-4415afc2675b",
     "showTitle": false,
     "tableResultSettingsMap": {},
     "title": ""
    }
   },
   "outputs": [],
   "source": [
    "display(\"Dim_revenda_schema: \", dim_revenda.schema)\n",
    "display(\"Dim_localidade_schema: \", dim_localidade.schema)\n",
    "display(\"Dim_produto_schema: \", dim_produto.schema)\n",
    "display(\"Dim_tempo_schema: \", dim_tempo.schema)\n",
    "display(\"Full_table_schema: \", full_table.schema)"
   ]
  },
  {
   "cell_type": "markdown",
   "metadata": {
    "application/vnd.databricks.v1+cell": {
     "cellMetadata": {},
     "inputWidgets": {},
     "nuid": "c86b5339-8eff-4e03-8e53-2d631217de7f",
     "showTitle": false,
     "tableResultSettingsMap": {},
     "title": ""
    }
   },
   "source": [
    "## PK Adjustment"
   ]
  },
  {
   "cell_type": "markdown",
   "metadata": {
    "application/vnd.databricks.v1+cell": {
     "cellMetadata": {},
     "inputWidgets": {},
     "nuid": "28c5567d-3d63-4ad7-9a48-7a7e9b1b5d22",
     "showTitle": false,
     "tableResultSettingsMap": {},
     "title": ""
    }
   },
   "source": [
    "### Dim_revenda (CNPJRevenda AS PK)"
   ]
  },
  {
   "cell_type": "code",
   "execution_count": 0,
   "metadata": {
    "application/vnd.databricks.v1+cell": {
     "cellMetadata": {
      "byteLimit": 2048000,
      "implicitDf": true,
      "rowLimit": 10000
     },
     "inputWidgets": {},
     "nuid": "45bcc613-3d55-4437-af07-c69679bcca92",
     "showTitle": false,
     "tableResultSettingsMap": {},
     "title": ""
    }
   },
   "outputs": [],
   "source": [
    "%sql\n",
    "CREATE OR REPLACE TABLE gov_br_combustivel.silver_layer.dim_revenda\n",
    "AS SELECT\n",
    "  CNPJRevenda,\n",
    "  Revenda,\n",
    "  NomeRua,\n",
    "  NumeroRua,\n",
    "  Complemento,\n",
    "  Bandeira,\n",
    "  cep\n",
    "FROM gov_br_combustivel.silver_layer.dim_revenda;\n",
    "\n",
    "ALTER TABLE gov_br_combustivel.silver_layer.dim_revenda ALTER COLUMN CNPJRevenda SET NOT NULL;\n",
    "\n",
    "ALTER TABLE gov_br_combustivel.silver_layer.dim_revenda ADD CONSTRAINT pk_CNPJRevenda PRIMARY KEY (CNPJRevenda);"
   ]
  },
  {
   "cell_type": "markdown",
   "metadata": {
    "application/vnd.databricks.v1+cell": {
     "cellMetadata": {},
     "inputWidgets": {},
     "nuid": "a69982e4-06b2-4e55-988a-cd4e0adcd5a4",
     "showTitle": false,
     "tableResultSettingsMap": {},
     "title": ""
    }
   },
   "source": [
    "### Dim_produtos (Produto AS PK)"
   ]
  },
  {
   "cell_type": "code",
   "execution_count": 0,
   "metadata": {
    "application/vnd.databricks.v1+cell": {
     "cellMetadata": {
      "byteLimit": 2048000,
      "implicitDf": true,
      "rowLimit": 10000
     },
     "inputWidgets": {},
     "nuid": "9b17c593-cf96-44cc-9839-0d8a5b0e87de",
     "showTitle": false,
     "tableResultSettingsMap": {},
     "title": ""
    }
   },
   "outputs": [],
   "source": [
    "%sql\n",
    "CREATE OR REPLACE TABLE gov_br_combustivel.silver_layer.dim_produto\n",
    "As SELECT\n",
    "  Produto,\n",
    "  UnidadeMedida\n",
    "FROM gov_br_combustivel.silver_layer.dim_produto;\n",
    "\n",
    "ALTER TABLE gov_br_combustivel.silver_layer.dim_produto ALTER COLUMN Produto SET NOT NULL;\n",
    "\n",
    "ALTER TABLE gov_br_combustivel.silver_layer.dim_produto ADD CONSTRAINT pk_Produto PRIMARY KEY (Produto)"
   ]
  },
  {
   "cell_type": "markdown",
   "metadata": {
    "application/vnd.databricks.v1+cell": {
     "cellMetadata": {},
     "inputWidgets": {},
     "nuid": "4ac5b27b-bdfe-4228-8806-122b92fb9312",
     "showTitle": false,
     "tableResultSettingsMap": {},
     "title": ""
    }
   },
   "source": [
    "## Dim_localidade (cep as PK)"
   ]
  },
  {
   "cell_type": "code",
   "execution_count": 0,
   "metadata": {
    "application/vnd.databricks.v1+cell": {
     "cellMetadata": {
      "byteLimit": 2048000,
      "implicitDf": true,
      "rowLimit": 10000
     },
     "inputWidgets": {},
     "nuid": "5fda0037-a7e5-4bb6-8253-3f9851c60265",
     "showTitle": false,
     "tableResultSettingsMap": {},
     "title": ""
    }
   },
   "outputs": [],
   "source": [
    "%sql\n",
    "CREATE OR REPLACE TABLE gov_br_combustivel.silver_layer.dim_localidade\n",
    "AS SELECT\n",
    "  Cep,\n",
    "  RegiaoSigla,\n",
    "  EstadoSigla,\n",
    "  Municipio\n",
    "FROM gov_br_combustivel.silver_layer.dim_localidade;\n",
    "\n",
    "ALTER TABLE gov_br_combustivel.silver_layer.dim_localidade ALTER COLUMN Cep SET NOT NULL;\n",
    "\n",
    "ALTER TABLE gov_br_combustivel.silver_layer.dim_localidade ADD CONSTRAINT pk_Cep PRIMARY KEY (Cep);"
   ]
  },
  {
   "cell_type": "markdown",
   "metadata": {
    "application/vnd.databricks.v1+cell": {
     "cellMetadata": {},
     "inputWidgets": {},
     "nuid": "78b1ec27-917b-4a62-acf0-31fdc685b9b8",
     "showTitle": false,
     "tableResultSettingsMap": {},
     "title": ""
    }
   },
   "source": [
    "## Dim_tampo (DataColeta as PK)"
   ]
  },
  {
   "cell_type": "code",
   "execution_count": 0,
   "metadata": {
    "application/vnd.databricks.v1+cell": {
     "cellMetadata": {
      "byteLimit": 2048000,
      "implicitDf": true,
      "rowLimit": 10000
     },
     "inputWidgets": {},
     "nuid": "27bae158-2a00-4f87-9fae-e7327135529a",
     "showTitle": false,
     "tableResultSettingsMap": {},
     "title": ""
    }
   },
   "outputs": [],
   "source": [
    "%sql\n",
    "CREATE OR REPLACE TABLE gov_br_combustivel.silver_layer.dim_tempo\n",
    "AS SELECT\n",
    "  DataColeta,\n",
    "  dia,\n",
    "  mes,\n",
    "  ano,\n",
    "  semana,\n",
    "  trimestre\n",
    "FROM gov_br_combustivel.silver_layer.dim_tempo;\n",
    "\n",
    "ALTER TABLE gov_br_combustivel.silver_layer.dim_tempo ALTER COLUMN DataColeta SET NOT NULL;\n",
    "\n",
    "ALTER TABLE gov_br_combustivel.silver_layer.dim_tempo ADD CONSTRAINT pk_DataColeta PRIMARY KEY (DataColeta)"
   ]
  }
 ],
 "metadata": {
  "application/vnd.databricks.v1+notebook": {
   "computePreferences": null,
   "dashboards": [],
   "environmentMetadata": {
    "base_environment": "",
    "environment_version": "2"
   },
   "inputWidgetPreferences": null,
   "language": "python",
   "notebookMetadata": {
    "mostRecentlyExecutedCommandWithImplicitDF": {
     "commandId": 5705110999505836,
     "dataframes": [
      "_sqldf"
     ]
    },
    "pythonIndentUnit": 4
   },
   "notebookName": "07_ajuste_pks",
   "widgets": {}
  },
  "language_info": {
   "name": "python"
  }
 },
 "nbformat": 4,
 "nbformat_minor": 0
}
