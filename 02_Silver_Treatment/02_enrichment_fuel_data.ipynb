{
 "cells": [
  {
   "cell_type": "markdown",
   "metadata": {
    "application/vnd.databricks.v1+cell": {
     "cellMetadata": {
      "byteLimit": 2048000,
      "rowLimit": 10000
     },
     "inputWidgets": {},
     "nuid": "ef304a7d-2fc4-4b29-af91-2570b5798a88",
     "showTitle": false,
     "tableResultSettingsMap": {},
     "title": ""
    }
   },
   "source": [
    "## Imports"
   ]
  },
  {
   "cell_type": "code",
   "execution_count": 0,
   "metadata": {
    "application/vnd.databricks.v1+cell": {
     "cellMetadata": {
      "byteLimit": 2048000,
      "rowLimit": 10000
     },
     "inputWidgets": {},
     "nuid": "348af2ae-5bbf-4e13-bdcc-390b5208f593",
     "showTitle": false,
     "tableResultSettingsMap": {},
     "title": ""
    }
   },
   "outputs": [],
   "source": [
    "from functools import reduce\n",
    "from pyspark.sql import functions as F\n",
    "from pyspark.sql.functions import *"
   ]
  },
  {
   "cell_type": "markdown",
   "metadata": {
    "application/vnd.databricks.v1+cell": {
     "cellMetadata": {
      "byteLimit": 2048000,
      "rowLimit": 10000
     },
     "inputWidgets": {},
     "nuid": "3db1124c-335f-4f13-a26b-3e366b2b30e2",
     "showTitle": false,
     "tableResultSettingsMap": {},
     "title": ""
    }
   },
   "source": [
    "## Creat a list of tables"
   ]
  },
  {
   "cell_type": "code",
   "execution_count": 0,
   "metadata": {
    "application/vnd.databricks.v1+cell": {
     "cellMetadata": {
      "byteLimit": 2048000,
      "rowLimit": 10000
     },
     "inputWidgets": {},
     "nuid": "af966120-cb9e-4a15-b590-babfd0012f2a",
     "showTitle": false,
     "tableResultSettingsMap": {},
     "title": ""
    }
   },
   "outputs": [],
   "source": [
    "tableList = spark.sql(\"SHOW TABLES IN gov_br_combustivel.bronze_layer\").select(\"tableName\").collect()"
   ]
  },
  {
   "cell_type": "markdown",
   "metadata": {
    "application/vnd.databricks.v1+cell": {
     "cellMetadata": {
      "byteLimit": 2048000,
      "rowLimit": 10000
     },
     "inputWidgets": {},
     "nuid": "b9b5c407-a2b6-44f1-923d-1a8635b10bbd",
     "showTitle": false,
     "tableResultSettingsMap": {},
     "title": ""
    }
   },
   "source": [
    "## Unify tables in one dataframe"
   ]
  },
  {
   "cell_type": "code",
   "execution_count": 0,
   "metadata": {
    "application/vnd.databricks.v1+cell": {
     "cellMetadata": {
      "byteLimit": 2048000,
      "rowLimit": 10000
     },
     "inputWidgets": {},
     "nuid": "47d1dfa9-fcec-4f38-b2c1-bea98e707d94",
     "showTitle": false,
     "tableResultSettingsMap": {},
     "title": ""
    }
   },
   "outputs": [],
   "source": [
    "table_names = [row.tableName for row in tableList]\n",
    "\n",
    "dfs = [\n",
    "    spark.table(f\"gov_br_combustivel.bronze_layer.{name}\")\n",
    "    for name in table_names\n",
    "]\n",
    "\n",
    "unified_df = dfs[0]\n",
    "for df in dfs[1:]:\n",
    "    unified_df = unified_df.unionByName(df, allowMissingColumns=True)"
   ]
  },
  {
   "cell_type": "markdown",
   "metadata": {
    "application/vnd.databricks.v1+cell": {
     "cellMetadata": {
      "byteLimit": 2048000,
      "rowLimit": 10000
     },
     "inputWidgets": {},
     "nuid": "7ec86359-001c-4e50-ab87-772a274e30df",
     "showTitle": false,
     "tableResultSettingsMap": {},
     "title": ""
    }
   },
   "source": [
    "## Data Processing"
   ]
  },
  {
   "cell_type": "markdown",
   "metadata": {
    "application/vnd.databricks.v1+cell": {
     "cellMetadata": {
      "byteLimit": 2048000,
      "rowLimit": 10000
     },
     "inputWidgets": {},
     "nuid": "c4337e9f-ff64-4a9d-b4a3-20b864cc7d91",
     "showTitle": false,
     "tableResultSettingsMap": {},
     "title": ""
    }
   },
   "source": [
    "## Drop null rolls"
   ]
  },
  {
   "cell_type": "code",
   "execution_count": 0,
   "metadata": {
    "application/vnd.databricks.v1+cell": {
     "cellMetadata": {
      "byteLimit": 2048000,
      "rowLimit": 10000
     },
     "inputWidgets": {},
     "nuid": "c841c504-b487-455f-997f-d04c54491d17",
     "showTitle": false,
     "tableResultSettingsMap": {},
     "title": ""
    }
   },
   "outputs": [],
   "source": [
    "unified_df = unified_df.dropna(how=\"all\")"
   ]
  },
  {
   "cell_type": "markdown",
   "metadata": {
    "application/vnd.databricks.v1+cell": {
     "cellMetadata": {
      "byteLimit": 2048000,
      "rowLimit": 10000
     },
     "inputWidgets": {},
     "nuid": "ffe9a7ed-42fe-4335-8175-94d92120151b",
     "showTitle": false,
     "tableResultSettingsMap": {},
     "title": ""
    }
   },
   "source": [
    "### Null values"
   ]
  },
  {
   "cell_type": "code",
   "execution_count": 0,
   "metadata": {
    "application/vnd.databricks.v1+cell": {
     "cellMetadata": {
      "byteLimit": 2048000,
      "rowLimit": 10000
     },
     "inputWidgets": {},
     "nuid": "c6ff6e56-27c2-45e7-be00-7ee4e783d709",
     "showTitle": false,
     "tableResultSettingsMap": {},
     "title": ""
    }
   },
   "outputs": [],
   "source": [
    "unified_df = unified_df.fillna(\"N/A\", subset=['RegiaoSigla', 'EstadoSigla', 'Municipio', 'Revenda', 'NomeRua', 'NumeroRua', 'Complemento', 'Bairro', 'Cep', 'Produto', 'UnidadeMedida', 'CNPJRevenda', 'Bandeira'])\n",
    "unified_df = unified_df.fillna(\"999.99\", subset=[\"ValorCompra\", \"valorVenda\"])"
   ]
  },
  {
   "cell_type": "markdown",
   "metadata": {
    "application/vnd.databricks.v1+cell": {
     "cellMetadata": {
      "byteLimit": 2048000,
      "rowLimit": 10000
     },
     "inputWidgets": {},
     "nuid": "5e38636f-2fcf-4af7-97fb-b372d1e046af",
     "showTitle": false,
     "tableResultSettingsMap": {},
     "title": ""
    }
   },
   "source": [
    "### Remove whitespace"
   ]
  },
  {
   "cell_type": "code",
   "execution_count": 0,
   "metadata": {
    "application/vnd.databricks.v1+cell": {
     "cellMetadata": {
      "byteLimit": 2048000,
      "rowLimit": 10000
     },
     "inputWidgets": {},
     "nuid": "17140738-894d-4fa4-942d-1c11918644b1",
     "showTitle": false,
     "tableResultSettingsMap": {},
     "title": ""
    }
   },
   "outputs": [],
   "source": [
    "unified_df = unified_df.withColumn(\"RegiaoSigla\", trim(col(\"RegiaoSigla\"))) \\\n",
    "    .withColumn(\"EstadoSigla\", trim(col(\"EstadoSigla\"))) \\\n",
    "    .withColumn(\"Municipio\", trim(col(\"Municipio\"))) \\\n",
    "    .withColumn(\"Revenda\", trim(col(\"Revenda\"))) \\\n",
    "    .withColumn(\"NomeRua\", trim(col(\"NomeRua\"))) \\\n",
    "    .withColumn(\"NumeroRua\", trim(col(\"NumeroRua\"))) \\\n",
    "    .withColumn(\"Complemento\", trim(col(\"Complemento\"))) \\\n",
    "    .withColumn(\"Bairro\", trim(col(\"Bairro\"))) \\\n",
    "    .withColumn(\"Cep\", trim(col(\"Cep\"))) \\\n",
    "    .withColumn(\"Produto\", trim(col(\"Produto\"))) \\\n",
    "    .withColumn(\"UnidadeMedida\", trim(col(\"UnidadeMedida\"))) \\\n",
    "    .withColumn(\"Bandeira\", trim(col(\"Bandeira\"))) \\\n",
    "    .withColumn(\"CNPJRevenda\", trim(col(\"CNPJRevenda\"))) \\\n",
    "    .withColumn(\"DataColeta\", trim(col(\"DataColeta\")))"
   ]
  },
  {
   "cell_type": "markdown",
   "metadata": {
    "application/vnd.databricks.v1+cell": {
     "cellMetadata": {
      "byteLimit": 2048000,
      "rowLimit": 10000
     },
     "inputWidgets": {},
     "nuid": "aad4842a-389f-4068-9ee8-cf6b46af00da",
     "showTitle": false,
     "tableResultSettingsMap": {},
     "title": ""
    }
   },
   "source": [
    "### Table type menage"
   ]
  },
  {
   "cell_type": "code",
   "execution_count": 0,
   "metadata": {
    "application/vnd.databricks.v1+cell": {
     "cellMetadata": {
      "byteLimit": 2048000,
      "rowLimit": 10000
     },
     "inputWidgets": {},
     "nuid": "16620ec6-53f7-4118-a8f1-a60052799093",
     "showTitle": false,
     "tableResultSettingsMap": {},
     "title": ""
    }
   },
   "outputs": [],
   "source": [
    "unified_df = unified_df.withColumn(\n",
    "    \"ValorVenda\",\n",
    "    F.regexp_replace(F.col(\"ValorVenda\"), \",\", \".\").cast(\"double\")\n",
    ").withColumn(\n",
    "    \"DataColeta\",\n",
    "    F.to_date(F.col(\"DataColeta\"), \"dd/MM/yyyy\")\n",
    ")"
   ]
  },
  {
   "cell_type": "markdown",
   "metadata": {
    "application/vnd.databricks.v1+cell": {
     "cellMetadata": {
      "byteLimit": 2048000,
      "rowLimit": 10000
     },
     "inputWidgets": {},
     "nuid": "ef381ab9-292d-404f-ad7b-039f5d959314",
     "showTitle": false,
     "tableResultSettingsMap": {},
     "title": ""
    }
   },
   "source": [
    "## Removing default value from null columns"
   ]
  },
  {
   "cell_type": "code",
   "execution_count": 0,
   "metadata": {
    "application/vnd.databricks.v1+cell": {
     "cellMetadata": {
      "byteLimit": 2048000,
      "rowLimit": 10000
     },
     "inputWidgets": {},
     "nuid": "b5f9b3af-a26c-4cd9-8aa9-6b2ea89c167a",
     "showTitle": false,
     "tableResultSettingsMap": {},
     "title": ""
    }
   },
   "outputs": [],
   "source": [
    "unified_df = unified_df.withColumn(\n",
    "    \"ValorVenda\",\n",
    "    F.when(F.col(\"ValorVenda\") == 999.99, None).otherwise(F.col(\"ValorVenda\"))\n",
    ")"
   ]
  },
  {
   "cell_type": "markdown",
   "metadata": {
    "application/vnd.databricks.v1+cell": {
     "cellMetadata": {
      "byteLimit": 2048000,
      "rowLimit": 10000
     },
     "inputWidgets": {},
     "nuid": "f8fe5183-eef7-4129-b114-6e1505e79bb9",
     "showTitle": false,
     "tableResultSettingsMap": {},
     "title": ""
    }
   },
   "source": [
    "## Aggregation of Synonymous Terms and Name Correction"
   ]
  },
  {
   "cell_type": "code",
   "execution_count": 0,
   "metadata": {
    "application/vnd.databricks.v1+cell": {
     "cellMetadata": {
      "byteLimit": 2048000,
      "rowLimit": 10000
     },
     "inputWidgets": {},
     "nuid": "5eb5b8bb-8616-42a3-840e-39894824ecd3",
     "showTitle": false,
     "tableResultSettingsMap": {},
     "title": ""
    }
   },
   "outputs": [],
   "source": [
    "unified_df = unified_df.withColumn(\n",
    "    \"NumeroRua\",\n",
    "    F.when(F.col(\"NumeroRua\") == \"NA\", \"N/A\").otherwise(F.col(\"NumeroRua\"))\n",
    ")\n",
    "\n",
    "unified_df = unified_df.withColumn(\n",
    "    \"Complemento\",\n",
    "    F.when(F.col(\"Complemento\") == \"\", \"N/A\").otherwise(F.col(\"Complemento\"))\n",
    ")\n",
    "\n",
    "unified_df = unified_df.withColumn(\n",
    "    \"UnidadeMedida\",\n",
    "    F.when(F.col(\"UnidadeMedida\") == \"R$ / mÂ³\", \"R$ / m³\").otherwise(F.col(\"UnidadeMedida\"))\n",
    ")"
   ]
  },
  {
   "cell_type": "markdown",
   "metadata": {
    "application/vnd.databricks.v1+cell": {
     "cellMetadata": {
      "byteLimit": 2048000,
      "rowLimit": 10000
     },
     "inputWidgets": {},
     "nuid": "9cd2c881-8b36-45f5-bc3d-125244a748f8",
     "showTitle": false,
     "tableResultSettingsMap": {},
     "title": ""
    }
   },
   "source": [
    "## Excluding Data Without Product"
   ]
  },
  {
   "cell_type": "code",
   "execution_count": 0,
   "metadata": {
    "application/vnd.databricks.v1+cell": {
     "cellMetadata": {
      "byteLimit": 2048000,
      "rowLimit": 10000
     },
     "inputWidgets": {},
     "nuid": "e4c88523-968f-4a7a-a16b-e303873b9e08",
     "showTitle": false,
     "tableResultSettingsMap": {},
     "title": ""
    }
   },
   "outputs": [],
   "source": [
    "unified_df = unified_df.filter(F.col(\"Produto\") != \"N/A\")"
   ]
  },
  {
   "cell_type": "markdown",
   "metadata": {
    "application/vnd.databricks.v1+cell": {
     "cellMetadata": {
      "byteLimit": 2048000,
      "rowLimit": 10000
     },
     "inputWidgets": {},
     "nuid": "75d82cde-c725-4a93-87a8-45aafa86058d",
     "showTitle": false,
     "tableResultSettingsMap": {},
     "title": ""
    }
   },
   "source": [
    "## Timestamp column to record silver treatment"
   ]
  },
  {
   "cell_type": "code",
   "execution_count": 0,
   "metadata": {
    "application/vnd.databricks.v1+cell": {
     "cellMetadata": {
      "byteLimit": 2048000,
      "rowLimit": 10000
     },
     "inputWidgets": {},
     "nuid": "d2456334-3c38-445e-98bd-87fa90976345",
     "showTitle": false,
     "tableResultSettingsMap": {},
     "title": ""
    }
   },
   "outputs": [],
   "source": [
    "unified_df = unified_df.withColumn(\"SilverDate\", current_timestamp())"
   ]
  },
  {
   "cell_type": "code",
   "execution_count": 0,
   "metadata": {
    "application/vnd.databricks.v1+cell": {
     "cellMetadata": {
      "byteLimit": 2048000,
      "rowLimit": 10000
     },
     "inputWidgets": {},
     "nuid": "c82870c0-15e5-4402-8158-7da79ce928a6",
     "showTitle": false,
     "tableResultSettingsMap": {},
     "title": ""
    }
   },
   "outputs": [],
   "source": [
    "display(unified_df.schema)"
   ]
  },
  {
   "cell_type": "markdown",
   "metadata": {
    "application/vnd.databricks.v1+cell": {
     "cellMetadata": {
      "byteLimit": 2048000,
      "rowLimit": 10000
     },
     "inputWidgets": {},
     "nuid": "cb1adf9e-4dbe-481d-959d-f6333fbd2ff6",
     "showTitle": false,
     "tableResultSettingsMap": {},
     "title": ""
    }
   },
   "source": [
    "## Save and optimize table"
   ]
  },
  {
   "cell_type": "code",
   "execution_count": 0,
   "metadata": {
    "application/vnd.databricks.v1+cell": {
     "cellMetadata": {
      "byteLimit": 2048000,
      "rowLimit": 10000
     },
     "inputWidgets": {},
     "nuid": "c8340d4f-5a31-4530-a44b-168a7636fecf",
     "showTitle": false,
     "tableResultSettingsMap": {},
     "title": ""
    }
   },
   "outputs": [],
   "source": [
    "unified_df.write.format(\"delta\") \\\n",
    "    .mode(\"overwrite\") \\\n",
    "    .option(\"zorderBy\", \"CNPJRevenda\") \\\n",
    "    .saveAsTable(\"gov_br_combustivel.silver_layer.unified_fuel_data\")"
   ]
  }
 ],
 "metadata": {
  "application/vnd.databricks.v1+notebook": {
   "computePreferences": {
    "hardware": {
     "accelerator": null,
     "gpuPoolId": null,
     "memory": null
    }
   },
   "dashboards": [],
   "environmentMetadata": {
    "base_environment": "",
    "environment_version": "2"
   },
   "inputWidgetPreferences": null,
   "language": "python",
   "notebookMetadata": {
    "pythonIndentUnit": 4
   },
   "notebookName": "02_enrichment_fuel_data",
   "widgets": {}
  },
  "language_info": {
   "name": "python"
  }
 },
 "nbformat": 4,
 "nbformat_minor": 0
}
