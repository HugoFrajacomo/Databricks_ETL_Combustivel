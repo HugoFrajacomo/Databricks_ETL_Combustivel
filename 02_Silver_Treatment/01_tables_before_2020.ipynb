{
 "cells": [
  {
   "cell_type": "code",
   "execution_count": 0,
   "metadata": {
    "application/vnd.databricks.v1+cell": {
     "cellMetadata": {
      "byteLimit": 2048000,
      "rowLimit": 10000
     },
     "inputWidgets": {},
     "nuid": "92dc8211-175a-4dd7-ae32-4deac4e2e813",
     "showTitle": false,
     "tableResultSettingsMap": {},
     "title": ""
    }
   },
   "outputs": [],
   "source": [
    "from pyspark.sql.functions import regexp_extract\n",
    "\n",
    "tableList = spark.sql(\"SHOW TABLES IN gov_br_combustivel.bronze_layer\")\n",
    "tableList = tableList.withColumn(\"ano\", regexp_extract(\"tableName\", r\"delta_(\\d{4})_\\d\", 1))"
   ]
  },
  {
   "cell_type": "code",
   "execution_count": 0,
   "metadata": {
    "application/vnd.databricks.v1+cell": {
     "cellMetadata": {
      "byteLimit": 2048000,
      "rowLimit": 10000
     },
     "inputWidgets": {},
     "nuid": "41dc96a4-3cf7-429a-997b-1be2296ba1ad",
     "showTitle": false,
     "tableResultSettingsMap": {},
     "title": ""
    }
   },
   "outputs": [],
   "source": [
    "tableList_before_2020 = tableList.filter(\"ano <= 2020\")\n",
    "display(tableList_before_2020)"
   ]
  },
  {
   "cell_type": "code",
   "execution_count": 0,
   "metadata": {
    "application/vnd.databricks.v1+cell": {
     "cellMetadata": {
      "byteLimit": 2048000,
      "rowLimit": 10000
     },
     "inputWidgets": {},
     "nuid": "fc1091cd-6f6f-4c9f-97e9-1837f47d6548",
     "showTitle": false,
     "tableResultSettingsMap": {},
     "title": ""
    }
   },
   "outputs": [],
   "source": [
    "from pyspark.sql.functions import col, regexp_replace\n",
    "\n",
    "if tableList_before_2020.count() > 0:\n",
    "    for row in tableList_before_2020.collect():\n",
    "        table_name = row['tableName']\n",
    "        df = spark.table(f\"gov_br_combustivel.bronze_layer.{table_name}\")\n",
    "        df = df.withColumn(\"ValorCompra\", regexp_replace(col(\"ValorCompra\"), \",\", \".\"))\n",
    "        df.write.mode(\"overwrite\").saveAsTable(f\"gov_br_combustivel.bronze_layer.{table_name}\")"
   ]
  }
 ],
 "metadata": {
  "application/vnd.databricks.v1+notebook": {
   "computePreferences": null,
   "dashboards": [],
   "environmentMetadata": {
    "base_environment": "",
    "environment_version": "2"
   },
   "inputWidgetPreferences": null,
   "language": "python",
   "notebookMetadata": {
    "pythonIndentUnit": 4
   },
   "notebookName": "01_tables_before_2020",
   "widgets": {}
  },
  "language_info": {
   "name": "python"
  }
 },
 "nbformat": 4,
 "nbformat_minor": 0
}
