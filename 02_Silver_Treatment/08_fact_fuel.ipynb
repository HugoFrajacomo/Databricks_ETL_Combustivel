{
 "cells": [
  {
   "cell_type": "code",
   "execution_count": 0,
   "metadata": {
    "application/vnd.databricks.v1+cell": {
     "cellMetadata": {
      "byteLimit": 2048000,
      "implicitDf": true,
      "rowLimit": 10000
     },
     "inputWidgets": {},
     "nuid": "aa39b544-05d2-4520-83a5-ea544a2649ae",
     "showTitle": false,
     "tableResultSettingsMap": {},
     "title": ""
    }
   },
   "outputs": [],
   "source": [
    "%sql\n",
    "CREATE OR REPLACE TABLE gov_br_combustivel.silver_layer.fact_fuel\n",
    "(\n",
    "  CNPJRevenda STRING,\n",
    "  Cep STRING,\n",
    "  Produto STRING,\n",
    "  DataColeta DATE,\n",
    "  ValorVenda DOUBLE,\n",
    "  ValorCompra DOUBLE,\n",
    "  CONSTRAINT fk_cnpjrevenda FOREIGN KEY (CNPJRevenda) REFERENCES gov_br_combustivel.silver_layer.dim_revenda (CNPJRevenda),\n",
    "  CONSTRAINT fk_cep FOREIGN KEY (Cep) REFERENCES gov_br_combustivel.silver_layer.dim_localidade (Cep),\n",
    "  CONSTRAINT fk_produto FOREIGN KEY (Produto) REFERENCES gov_br_combustivel.silver_layer.dim_produto (Produto),\n",
    "  CONSTRAINT fk_data FOREIGN KEY (DataColeta) REFERENCES gov_br_combustivel.silver_layer.dim_tempo (DataColeta)\n",
    ");\n",
    "\n",
    "INSERT INTO gov_br_combustivel.silver_layer.fact_fuel\n",
    "SELECT\n",
    "  CNPJRevenda,\n",
    "  Cep,\n",
    "  Produto,\n",
    "  DataColeta,\n",
    "  ValorVenda,\n",
    "  ValorCompra\n",
    "FROM gov_br_combustivel.silver_layer.unified_fuel_data;"
   ]
  },
  {
   "cell_type": "code",
   "execution_count": 0,
   "metadata": {
    "application/vnd.databricks.v1+cell": {
     "cellMetadata": {
      "byteLimit": 2048000,
      "rowLimit": 10000
     },
     "inputWidgets": {},
     "nuid": "7495daeb-9ed6-44a7-8cb2-fb722e804442",
     "showTitle": false,
     "tableResultSettingsMap": {},
     "title": ""
    }
   },
   "outputs": [],
   "source": [
    "df = spark.table(\"gov_br_combustivel.silver_layer.unified_fuel_data\")\n",
    "display(df.schema)"
   ]
  }
 ],
 "metadata": {
  "application/vnd.databricks.v1+notebook": {
   "computePreferences": null,
   "dashboards": [],
   "environmentMetadata": {
    "base_environment": "",
    "environment_version": "2"
   },
   "inputWidgetPreferences": null,
   "language": "python",
   "notebookMetadata": {
    "mostRecentlyExecutedCommandWithImplicitDF": {
     "commandId": 5705110999505837,
     "dataframes": [
      "_sqldf"
     ]
    },
    "pythonIndentUnit": 4
   },
   "notebookName": "08_fact_fuel",
   "widgets": {}
  },
  "language_info": {
   "name": "python"
  }
 },
 "nbformat": 4,
 "nbformat_minor": 0
}
